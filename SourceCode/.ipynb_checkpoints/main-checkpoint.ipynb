{
 "cells": [
  {
   "cell_type": "code",
   "execution_count": null,
   "id": "82317306-b53d-482d-bec6-898762e6effb",
   "metadata": {},
   "outputs": [],
   "source": [
    "#!pip install polygon-api-client"
   ]
  },
  {
   "cell_type": "code",
   "execution_count": null,
   "id": "4d4c3d08-fa5c-440f-a49c-6e17271d86c0",
   "metadata": {},
   "outputs": [],
   "source": [
    "#import system and source code folder\n",
    "import sys\n",
    "sys.path.append(\"../SourceCode\")"
   ]
  },
  {
   "cell_type": "code",
   "execution_count": null,
   "id": "1d1885c4-710e-46ce-b25c-71918c0ddbd7",
   "metadata": {},
   "outputs": [],
   "source": [
    "# Load .env enviroment variables\n",
    "from dotenv import load_dotenv\n",
    "load_dotenv()"
   ]
  },
  {
   "cell_type": "code",
   "execution_count": null,
   "id": "009008b1-3a6b-4ce3-8d63-a2661d063427",
   "metadata": {},
   "outputs": [],
   "source": [
    "#Imports \n",
    "#Pandas\n",
    "import pandas as pd\n",
    "#Numpy\n",
    "import numpy as np\n",
    "#Tqdm\n",
    "from tqdm import tqdm\n",
    "#Hvplots\n",
    "import hvplot.pandas\n",
    "#Matplotlib\n",
    "import matplotlib.pyplot as plt\n",
    "#Import OS\n",
    "import os\n",
    "#Json\n",
    "import json\n",
    "#TA library\n",
    "import talib as talib\n",
    "#Spicy\n",
    "from scipy.stats import linregress\n",
    "\n",
    "from pathlib import Path"
   ]
  },
  {
   "cell_type": "code",
   "execution_count": null,
   "id": "fae50fdc-7479-45b6-8151-692bfd567457",
   "metadata": {},
   "outputs": [],
   "source": [
    "#datatime \n",
    "from datetime import date, datetime\n",
    "#Typing \n",
    "from typing import Any, Optional\n",
    "#HTTP Addaptor\n",
    "from requests.adapters import HTTPAdapter\n",
    "#urllib3 is a powerful, user-friendly HTTP client\n",
    "from urllib3.util.retry import Retry\n",
    "#Polygon 3rd Party API for Data and Restful Client\n",
    "from polygon import RESTClient\n",
    "#Polygon Key\n",
    "from local_settings import polygon_api_key as settings"
   ]
  },
  {
   "cell_type": "markdown",
   "id": "d935ea54-330b-4ef2-aeaf-86dc8a9a2ff2",
   "metadata": {},
   "source": [
    "# Defining Functions \n"
   ]
  },
  {
   "cell_type": "code",
   "execution_count": null,
   "id": "a7c5a9a4-497f-4ec9-8d48-e4864baa7662",
   "metadata": {},
   "outputs": [],
   "source": [
    "# Connectivity Function Validation\n",
    "\n",
    "markets = ['crypto', 'stocks', 'fx']\n",
    "\n",
    "class MyRESTClient(RESTClient):\n",
    "    def __init__(self, auth_key: str=settings['api_key'], timeout:int=5):\n",
    "        super().__init__(auth_key)\n",
    "        retry_strategy = Retry(total=10,\n",
    "                               backoff_factor=10,\n",
    "                               status_forcelist=[429, 500, 502, 503, 504])\n",
    "        adapter = HTTPAdapter(max_retries=retry_strategy)\n",
    "        self._session.mount('https://', adapter)"
   ]
  },
  {
   "cell_type": "code",
   "execution_count": null,
   "id": "7c3b7278-e1ad-4033-ac43-8e94fa689055",
   "metadata": {},
   "outputs": [],
   "source": [
    "# Loading API KEY \n",
    "client = MyRESTClient(settings['api_key'])\n"
   ]
  },
  {
   "cell_type": "code",
   "execution_count": null,
   "id": "c278493c-12be-4bb3-8bfe-373f333a2751",
   "metadata": {},
   "outputs": [],
   "source": [
    "# Testing API Client \n",
    "\n",
    "help(client.reference_tickers_v3)\n"
   ]
  },
  {
   "cell_type": "code",
   "execution_count": null,
   "id": "8505771e-e7a5-41a6-8f1e-f5b2c336b81e",
   "metadata": {},
   "outputs": [],
   "source": [
    "\n",
    "\n",
    "class MyRESTClient(RESTClient):\n",
    "    # Defining Function with Time Out after 5 intervales against error codes (429, 500, 502, 503, 504) and implementing retry mechensim.\n",
    "    def __init__(self, auth_key: str=settings['api_key'], timeout:int=5):\n",
    "        super().__init__(auth_key)\n",
    "        retry_strategy = Retry(total=10,\n",
    "                               backoff_factor=10,\n",
    "                               status_forcelist=[429, 500, 502, 503, 504])\n",
    "        adapter = HTTPAdapter(max_retries=retry_strategy)\n",
    "        self._session.mount('https://', adapter)\n",
    "\n",
    "    # Defining function for getting market data\n",
    "    def get_tickers(self, market:str=None) -> pd.DataFrame:\n",
    "        if not market in markets:\n",
    "            raise Exception(f'Market must be one of {markets}.')\n",
    "\n",
    "        resp = self.reference_tickers_v3(market=market)\n",
    "        if hasattr(resp, 'results'):\n",
    "            df = pd.DataFrame(resp.results)\n",
    "\n",
    "            while hasattr(resp, 'next_url'):\n",
    "                resp = self.reference_tickers_v3(next_url=resp.next_url)\n",
    "                df = df.append(pd.DataFrame(resp.results))\n",
    "\n",
    "            if market == 'crypto':\n",
    "                # Only use USD pairings.</em>\n",
    "                df = df[df['currency_symbol'] == 'USD']\n",
    "                df['name'] = df['base_currency_name']\n",
    "                df = df[['ticker', 'name', 'market', 'active']]\n",
    "\n",
    "            df = df.drop_duplicates(subset='ticker')\n",
    "            return df\n",
    "        return None"
   ]
  },
  {
   "cell_type": "markdown",
   "id": "4867979a-d6bb-49ed-919a-f8d487eac571",
   "metadata": {},
   "source": [
    "# Functions Test for Polygon API\n"
   ]
  },
  {
   "cell_type": "code",
   "execution_count": null,
   "id": "2052697b-b80a-4c7e-a6ca-1dba16b64710",
   "metadata": {},
   "outputs": [],
   "source": [
    "# Getting the list of Cypto Currencies. \n",
    "\n",
    "client = MyRESTClient(settings['api_key'])\n",
    "df = client.get_tickers(market='crypto')\n",
    "df"
   ]
  },
  {
   "cell_type": "code",
   "execution_count": null,
   "id": "852e0dd1-5a00-42fd-9dc6-1347dc28f2bc",
   "metadata": {},
   "outputs": [],
   "source": [
    "# Getting Help for Stock, Equities and Crytos\n",
    "help(client.stocks_equities_aggregates)"
   ]
  },
  {
   "cell_type": "code",
   "execution_count": null,
   "id": "ae322f33-4809-4c0c-a8db-ff6bd27f86f6",
   "metadata": {},
   "outputs": [],
   "source": [
    "# Defining Class to gather Currencies with Pologon API using retry mechinism and fetching minute bar data with Open, High, low amd Close. \n",
    "class MyRESTClient(RESTClient):\n",
    "    # Defining Retry mechennism.\n",
    "    def __init__(self, auth_key: str=settings['api_key'], timeout:int=5):\n",
    "        super().__init__(auth_key)\n",
    "        retry_strategy = Retry(total=10,\n",
    "                               backoff_factor=10,\n",
    "                               status_forcelist=[429, 500, 502, 503, 504])\n",
    "        adapter = HTTPAdapter(max_retries=retry_strategy)\n",
    "        self._session.mount('https://', adapter)\n",
    "   \n",
    "    # Defining Tickers and markets. \n",
    "    def get_tickers(self, market:str=None) -> pd.DataFrame:\n",
    "        if not market in markets:\n",
    "            raise Exception(f'Market must be one of {markets}.')\n",
    "\n",
    "        resp = self.reference_tickers_v3(market=market)\n",
    "        if hasattr(resp, 'results'):\n",
    "            df = pd.DataFrame(resp.results)\n",
    "\n",
    "            while hasattr(resp, 'next_url'):\n",
    "                resp = self.reference_tickers_v3(next_url=resp.next_url)\n",
    "                df = df.append(pd.DataFrame(resp.results))\n",
    "\n",
    "            if market == 'crypto':\n",
    "                # Only use USD pairings.</em>\n",
    "                df = df[df['currency_symbol'] == 'USD']\n",
    "                df['name'] = df['base_currency_name']\n",
    "                df = df[['ticker', 'name', 'market', 'active']]\n",
    "\n",
    "            df = df.drop_duplicates(subset='ticker')\n",
    "            return df\n",
    "        return None\n",
    "    # Definfing function for getting Minute bar data.\n",
    "    def get_bars(self, market:str=None, ticker:str=None, multiplier:int=1,\n",
    "                 timespan:str='minute', from_:date=None, to:date=None) -> pd.DataFrame:\n",
    "\n",
    "        if not market in markets:\n",
    "            raise Exception(f'Market must be one of {markets}.')\n",
    "\n",
    "        if ticker is None:\n",
    "            raise Exception('Ticker must not be None.')\n",
    "\n",
    "        from_ = from_ if from_ else date(2000,1,1)\n",
    "        to = to if to else date.today()\n",
    "\n",
    "        if market == 'crypto':\n",
    "            resp = self.crypto_aggregates(ticker, multiplier, timespan,\n",
    "                                          from_.strftime('%Y-%m-%d'), to.strftime('%Y-%m-%d'),\n",
    "                                          limit=50000)\n",
    "            df = pd.DataFrame(resp.results)\n",
    "            last_minute = 0\n",
    "            while resp.results[-1]['t'] > last_minute:\n",
    "                last_minute = resp.results[-1]['t'] # Last minute in response</em>\n",
    "                last_minute_date = datetime.fromtimestamp(last_minute/1000).strftime('%Y-%m-%d')\n",
    "                resp = self.crypto_aggregates(ticker, multiplier, timespan,\n",
    "                                          last_minute_date, to.strftime('%Y-%m-%d'),\n",
    "                                          limit=50000)\n",
    "                new_bars = pd.DataFrame(resp.results)\n",
    "                df = df.append(new_bars[new_bars['t'] > last_minute])\n",
    "\n",
    "            df['date'] = pd.to_datetime(df['t'], unit='ms')\n",
    "            df = df.rename(columns={'o':'open',\n",
    "                                    'h':'high',\n",
    "                                    'l':'low',\n",
    "                                    'c':'close',\n",
    "                                    'v':'volume',\n",
    "                                    'vw':'vwap',\n",
    "                                    'n':'transactions'})\n",
    "            df = df[['date','open','high','low','close','volume']]\n",
    "\n",
    "            return df\n",
    "        return None"
   ]
  },
  {
   "cell_type": "code",
   "execution_count": null,
   "id": "9018c32f-af24-4b88-868e-8ca5995e7cb0",
   "metadata": {},
   "outputs": [],
   "source": [
    "# Defining a Function for regression slope. \n",
    "def get_slope(array):\n",
    "    y = np.array(array)\n",
    "    x = np.arange(len(y))\n",
    "    slope, intercept, r_value, p_value, std_err = linregress(x,y)\n",
    "    return slope\n"
   ]
  },
  {
   "cell_type": "markdown",
   "id": "d51c545e-91f9-4bbe-a70c-d932d13eb54d",
   "metadata": {},
   "source": [
    "# Data Gathering for Cryptocurrencies "
   ]
  },
  {
   "cell_type": "markdown",
   "id": "d8741b60-7e77-4708-95e2-5de8c2ac5140",
   "metadata": {},
   "source": [
    "## BTC Data for 2 years on minutes bars "
   ]
  },
  {
   "cell_type": "code",
   "execution_count": null,
   "id": "e9055ccb-9bb2-4155-8b5f-2b46ea8dbe2c",
   "metadata": {},
   "outputs": [],
   "source": [
    "start = datetime(2000,1,1)\n",
    "client = MyRESTClient(settings['api_key'])\n",
    "df = client.get_bars(market='crypto', ticker='X:BTCUSD', from_=start)\n",
    "df"
   ]
  },
  {
   "cell_type": "code",
   "execution_count": null,
   "id": "ccfdcfb6-b4d3-46c2-8829-c2d621147b62",
   "metadata": {},
   "outputs": [],
   "source": [
    "BTC_df = pd.DataFrame()\n",
    "\n",
    "BTC_df = df "
   ]
  },
  {
   "cell_type": "code",
   "execution_count": null,
   "id": "11d696a4-13d5-4d9a-bf50-86c7df8089a9",
   "metadata": {},
   "outputs": [],
   "source": [
    "BTC_df.hvplot(x='date', y=['close'],\n",
    "                value_label='Price', subplots=True, width=600, height=400)"
   ]
  },
  {
   "cell_type": "markdown",
   "id": "43a00ca1-74ae-470a-b41d-f8db6065248c",
   "metadata": {},
   "source": [
    "## ETH Data for 2 years on minutes bars\n"
   ]
  },
  {
   "cell_type": "code",
   "execution_count": null,
   "id": "638d1e9d-4647-49e4-832b-fe664ee9b8f2",
   "metadata": {},
   "outputs": [],
   "source": [
    "start = datetime(2000,1,1)\n",
    "client = MyRESTClient(settings['api_key'])\n",
    "ETH_df = client.get_bars(market='crypto', ticker='X:ETHUSD', from_=start)\n",
    "ETH_df"
   ]
  },
  {
   "cell_type": "code",
   "execution_count": null,
   "id": "e93f7f07-076d-4956-8516-0946aeb36af1",
   "metadata": {},
   "outputs": [],
   "source": [
    "ETH_df.hvplot(x='date', y=['close'],\n",
    "                value_label='Price', subplots=True, width=600, height=400)"
   ]
  },
  {
   "cell_type": "markdown",
   "id": "636d02da-d4cc-4f13-9b7d-6288bc091502",
   "metadata": {},
   "source": [
    "# BNB Data for 2 years on minutes bars"
   ]
  },
  {
   "cell_type": "code",
   "execution_count": null,
   "id": "a85c12b9-e601-4155-9bd3-6ca343e5d47c",
   "metadata": {},
   "outputs": [],
   "source": [
    "start = datetime(2000,1,1)\n",
    "client = MyRESTClient(settings['api_key'])\n",
    "BNB_df = client.get_bars(market='crypto', ticker='X:BNBUSD', from_=start)\n",
    "BNB_df"
   ]
  },
  {
   "cell_type": "markdown",
   "id": "6d9d1c0b-b0f9-4f6c-b31d-0180747baa78",
   "metadata": {},
   "source": [
    "# XRP Data for 2 years on minutes bars\n"
   ]
  },
  {
   "cell_type": "code",
   "execution_count": null,
   "id": "1909f6cf-6bc5-4ae8-a4ef-4ded65b2e95a",
   "metadata": {},
   "outputs": [],
   "source": [
    "start = datetime(2000,1,1)\n",
    "client = MyRESTClient(settings['api_key'])\n",
    "XRP_df = client.get_bars(market='crypto', ticker='X:XRPUSD', from_=start)\n",
    "XRP_df"
   ]
  },
  {
   "cell_type": "markdown",
   "id": "3d13d5d0-6d7e-407f-82c5-999b2bff051d",
   "metadata": {},
   "source": [
    "# Doge Data for 2 years on minutes bars"
   ]
  },
  {
   "cell_type": "code",
   "execution_count": null,
   "id": "98cc5543-1f99-4aec-810d-c9e92f5c9b67",
   "metadata": {},
   "outputs": [],
   "source": [
    "start = datetime(2000,1,1)\n",
    "client = MyRESTClient(settings['api_key'])\n",
    "DOGE_df = client.get_bars(market='crypto', ticker='X:DOGEUSD', from_=start)\n",
    "DOGE_df"
   ]
  },
  {
   "cell_type": "markdown",
   "id": "07d273a7-62f6-4f4c-af48-1e71ef4da89c",
   "metadata": {},
   "source": [
    "## ADA Data for 2 years on minutes bars"
   ]
  },
  {
   "cell_type": "code",
   "execution_count": null,
   "id": "97da007e-5be7-4513-bbd2-2f73d2314881",
   "metadata": {},
   "outputs": [],
   "source": [
    "start = datetime(2000,1,1)\n",
    "client = MyRESTClient(settings['api_key'])\n",
    "ADA_df = client.get_bars(market='crypto', ticker='X:ADAUSD', from_=start)\n",
    "ADA_df"
   ]
  },
  {
   "cell_type": "markdown",
   "id": "df29b0f1-a4b4-48fb-9582-d3827e1f220d",
   "metadata": {},
   "source": [
    "## Matic Data for 2 years on minutes bars\n"
   ]
  },
  {
   "cell_type": "code",
   "execution_count": null,
   "id": "f90f801b-80c1-40f4-8b43-f0114d4d9967",
   "metadata": {},
   "outputs": [],
   "source": [
    "start = datetime(2000,1,1)\n",
    "client = MyRESTClient(settings['api_key'])\n",
    "MATIC_df = client.get_bars(market='crypto', ticker='X:MATICUSD', from_=start)\n",
    "MATIC_df"
   ]
  },
  {
   "cell_type": "markdown",
   "id": "b36ca925-1b3b-4af7-9400-9ed8e986d5d1",
   "metadata": {},
   "source": [
    "# INDICATORS \n",
    "\n",
    "## Name added to dataframe \n",
    "## close percentage \n",
    "## rolling slope over 30 bars \n",
    "## Range\n",
    "## Range mean over 30 bars \n",
    "## Range Standard Divation over 30 bars\n",
    "## Range Z-Score\n",
    "## Y Shifted over 1 minutes\n",
    "## SMA Fast over 30 bars over close \n",
    "## SMA Slow over 100 bars over close \n",
    "## RSI \n",
    "## Volume percentage \n",
    "## SMA Slow Percentage Change over 30 mins \n",
    "## SMA Fast Percentage Change over 100 mins\n",
    "## Rolling Mean\n",
    "## Rolling STD\n",
    "## Bollinger Band High over close \n",
    "## Bollinger Bank Low over close \n"
   ]
  },
  {
   "cell_type": "code",
   "execution_count": null,
   "id": "26ea1481-e920-48bb-9e35-b6fd612c5904",
   "metadata": {},
   "outputs": [],
   "source": [
    "short_window =30\n",
    "long_window = 100\n",
    "minutes_back = 30\n",
    "\n",
    "BTC_df.insert(1, 'CRYPTO', 'BTC')\n",
    "BTC_df['ClosePct']=(BTC_df['close']-BTC_df['low'])/(BTC_df['high']-BTC_df['low'])\n",
    "BTC_df['rolling_slope'] = BTC_df['close'].rolling(window=minutes_back).apply(get_slope, raw=False)\n",
    "BTC_df['Range']=BTC_df['high']-BTC_df['low']\n",
    "BTC_df['RangeMa']=BTC_df['Range'].rolling(30).mean()\n",
    "BTC_df['RangeSD']=BTC_df['Range'].rolling(30).std()\n",
    "BTC_df['RangeZscore']=(BTC_df['Range']-BTC_df['RangeMa'])/df['RangeSD']\n",
    "BTC_df['Y']=BTC_df['close'].pct_change().shift(-1)\n",
    "BTC_df['SMA_Fast'] = BTC_df['close'].rolling(window=short_window).mean()/BTC_df['close']\n",
    "BTC_df['SMA_Slow'] = BTC_df['close'].rolling(window=long_window).mean()/BTC_df['close']\n",
    "BTC_df['RSI']=talib.RSI(BTC_df['close'], timeperiod=30)\n",
    "BTC_df['Volume_PCT'] = BTC_df['volume'].pct_change()\n",
    "BTC_df['SMA_Fast_'] = BTC_df['close'].rolling(window=short_window).mean()\n",
    "BTC_df['SMA_Slow_'] = BTC_df['close'].rolling(window=long_window).mean()\n",
    "BTC_df['SMA_Fast_pctchange']=BTC_df['SMA_Fast_'].pct_change()\n",
    "BTC_df['SMA_Slow_pctchange']=BTC_df['SMA_Slow_'].pct_change()\n",
    "BTC_df['rolling_mean'] = BTC_df['close'].rolling(short_window).mean()\n",
    "BTC_df['rolling_std'] = BTC_df['close'].rolling(short_window).std()\n",
    "BTC_df['Bollinger High'] = (BTC_df['rolling_mean'] + (BTC_df['rolling_std'] * 2))/BTC_df['close']\n",
    "BTC_df['Bollinger Low'] = (BTC_df['rolling_mean'] - (BTC_df['rolling_std'] * 2))/BTC_df['close']\n",
    "\n",
    "BTC_df"
   ]
  },
  {
   "cell_type": "code",
   "execution_count": null,
   "id": "30cea411-21c6-4e9e-89dc-d23df43c8770",
   "metadata": {},
   "outputs": [],
   "source": [
    "BTC_df['Y']=BTC_df['close'].pct_change().shift(-1)"
   ]
  },
  {
   "cell_type": "code",
   "execution_count": null,
   "id": "e8abd5e4-49f7-4419-aba7-18a6879f9ead",
   "metadata": {},
   "outputs": [],
   "source": [
    "ETH_df.insert(1, 'CRYPTO', 'ETH')\n",
    "\n",
    "#short_window =30\n",
    "#long_window = 720\n",
    "#minutes_back=30\n",
    "\n",
    "ETH_df['ClosePct']=(ETH_df['close']-ETH_df['low'])/(ETH_df['high']-ETH_df['low'])\n",
    "ETH_df['Range']=ETH_df['high']-ETH_df['low']\n",
    "ETH_df['RangeMa']=ETH_df['Range'].rolling(30).mean()\n",
    "ETH_df['RangeSD']=ETH_df['Range'].rolling(30).std()\n",
    "ETH_df['RangeZscore']=(ETH_df['Range']-ETH_df['RangeMa'])/ETH_df['RangeSD']\n",
    "ETH_df['SMA_Fast'] = ETH_df['close'].rolling(window=short_window).mean()/ETH_df['close']\n",
    "ETH_df['SMA_Slow'] = ETH_df['close'].rolling(window=long_window).mean()/ETH_df['close']\n",
    "ETH_df['RSI']=talib.RSI(ETH_df['close'], timeperiod=30)\n",
    "ETH_df['Volume_PCT'] = ETH_df['volume'].pct_change()\n",
    "ETH_df['SMA_Fast_'] = ETH_df['close'].rolling(window=short_window).mean()\n",
    "ETH_df['SMA_Slow_'] = ETH_df['close'].rolling(window=long_window).mean()\n",
    "ETH_df['SMA_Fast_pctchange']=ETH_df['SMA_Fast_'].pct_change()\n",
    "ETH_df['SMA_Slow_pctchange']=ETH_df['SMA_Slow_'].pct_change()\n",
    "ETH_df['rolling_mean'] = ETH_df['close'].rolling(short_window).mean()\n",
    "ETH_df['rolling_std'] = ETH_df['close'].rolling(short_window).std()\n",
    "ETH_df['Bollinger High'] = (ETH_df['rolling_mean'] + (ETH_df['rolling_std'] * 2))/ETH_df['close']\n",
    "ETH_df['Bollinger Low'] = (ETH_df['rolling_mean'] - (ETH_df['rolling_std'] * 2))/ETH_df['close']\n",
    "ETH_df['rolling_slope'] = ETH_df['close'].rolling(window=minutes_back).apply(get_slope, raw=False)\n",
    "ETH_df['Y']=ETH_df['close'].pct_change().shift(-1)\n",
    "\n",
    "\n",
    "ETH_df"
   ]
  },
  {
   "cell_type": "code",
   "execution_count": null,
   "id": "5e59b142-3dee-48d7-9609-061afac7c60e",
   "metadata": {},
   "outputs": [],
   "source": [
    "BNB_df.insert(1, 'CRYPTO', 'BNB')\n",
    "\n",
    "#short_window =30\n",
    "#long_window = 720\n",
    "#minutes_back=30\n",
    "\n",
    "BNB_df['ClosePct']=(BNB_df['close']-BNB_df['low'])/(BNB_df['high']-BNB_df['low'])\n",
    "BNB_df['Range']=BNB_df['high']-BNB_df['low']\n",
    "BNB_df['RangeMa']=BNB_df['Range'].rolling(30).mean()\n",
    "BNB_df['RangeSD']=BNB_df['Range'].rolling(30).std()\n",
    "BNB_df['RangeZscore']=(BNB_df['Range']-BNB_df['RangeMa'])/BNB_df['RangeSD']\n",
    "BNB_df['SMA_Fast'] = BNB_df['close'].rolling(window=short_window).mean()/BNB_df['close']\n",
    "BNB_df['SMA_Slow'] = BNB_df['close'].rolling(window=long_window).mean()/BNB_df['close']\n",
    "BNB_df['RSI']=talib.RSI(BNB_df['close'], timeperiod=30)\n",
    "BNB_df['Volume_PCT'] = BNB_df['volume'].pct_change()\n",
    "BNB_df['SMA_Fast_'] = BNB_df['close'].rolling(window=short_window).mean()\n",
    "BNB_df['SMA_Slow_'] = BNB_df['close'].rolling(window=long_window).mean()\n",
    "BNB_df['SMA_Fast_pctchange']=BNB_df['SMA_Fast_'].pct_change()\n",
    "BNB_df['SMA_Slow_pctchange']=BNB_df['SMA_Slow_'].pct_change()\n",
    "BNB_df['rolling_mean'] = BNB_df['close'].rolling(short_window).mean()\n",
    "BNB_df['rolling_std'] = BNB_df['close'].rolling(short_window).std()\n",
    "BNB_df['Bollinger High'] = (BNB_df['rolling_mean'] + (BNB_df['rolling_std'] * 2))/BNB_df['close']\n",
    "BNB_df['Bollinger Low'] = (BNB_df['rolling_mean'] - (BNB_df['rolling_std'] * 2))/BNB_df['close']\n",
    "BNB_df['rolling_slope'] = BNB_df['close'].rolling(window=minutes_back).apply(get_slope, raw=False)\n",
    "\n",
    "\n",
    "BNB_df['Y']=BNB_df['close'].pct_change().shift(-1)\n",
    "\n",
    "\n",
    "# Generate the fast and slow simple moving averages 30mins and 12 hous, respectively with respect to current day close\n",
    "\n",
    "BNB_df"
   ]
  },
  {
   "cell_type": "code",
   "execution_count": null,
   "id": "fd612cab-1e8d-4d61-a615-4b1073647d15",
   "metadata": {},
   "outputs": [],
   "source": [
    "XRP_df.insert(1, 'CRYPTO', 'XRP')\n",
    "\n",
    "#short_window =30\n",
    "#long_window = 720\n",
    "#minutes_back=30\n",
    "\n",
    "XRP_df['ClosePct']=(XRP_df['close']-XRP_df['low'])/(XRP_df['high']-XRP_df['low'])\n",
    "XRP_df['Range']=XRP_df['high']-XRP_df['low']\n",
    "XRP_df['RangeMa']=XRP_df['Range'].rolling(30).mean()\n",
    "XRP_df['RangeSD']=XRP_df['Range'].rolling(30).std()\n",
    "XRP_df['RangeZscore']=(XRP_df['Range']-XRP_df['RangeMa'])/XRP_df['RangeSD']\n",
    "XRP_df['SMA_Fast'] = XRP_df['close'].rolling(window=short_window).mean()/XRP_df['close']\n",
    "XRP_df['SMA_Slow'] = XRP_df['close'].rolling(window=long_window).mean()/XRP_df['close']\n",
    "XRP_df['RSI']=talib.RSI(XRP_df['close'], timeperiod=30)\n",
    "XRP_df['Volume_PCT'] = XRP_df['volume'].pct_change()\n",
    "XRP_df['SMA_Fast_'] = XRP_df['close'].rolling(window=short_window).mean()\n",
    "XRP_df['SMA_Slow_'] = XRP_df['close'].rolling(window=long_window).mean()\n",
    "XRP_df['SMA_Fast_pctchange']=XRP_df['SMA_Fast_'].pct_change()\n",
    "XRP_df['SMA_Slow_pctchange']=XRP_df['SMA_Slow_'].pct_change()\n",
    "XRP_df['rolling_mean'] = XRP_df['close'].rolling(short_window).mean()\n",
    "XRP_df['rolling_std'] = XRP_df['close'].rolling(short_window).std()\n",
    "XRP_df['Bollinger High'] = (XRP_df['rolling_mean'] + (XRP_df['rolling_std'] * 2))/XRP_df['close']\n",
    "XRP_df['Bollinger Low'] = (XRP_df['rolling_mean'] - (XRP_df['rolling_std'] * 2))/XRP_df['close']\n",
    "XRP_df['rolling_slope'] = XRP_df['close'].rolling(window=minutes_back).apply(get_slope, raw=False)\n",
    "\n",
    "\n",
    "XRP_df['Y']=XRP_df['close'].pct_change().shift(-1)\n",
    "\n",
    "\n",
    "XRP_df"
   ]
  },
  {
   "cell_type": "code",
   "execution_count": null,
   "id": "231f53b6-6762-48d8-88fb-80ef36a85466",
   "metadata": {},
   "outputs": [],
   "source": [
    "#DOGE_df.insert(1, 'CRYPTO', 'DOGE')\n",
    "\n",
    "#short_window =30\n",
    "#long_window = 720\n",
    "#minutes_back=30\n",
    "\n",
    "DOGE_df['ClosePct']=(DOGE_df['close']-DOGE_df['low'])/(DOGE_df['high']-DOGE_df['low'])\n",
    "DOGE_df['Range']=DOGE_df['high']-DOGE_df['low']\n",
    "DOGE_df['RangeMa']=DOGE_df['Range'].rolling(30).mean()\n",
    "DOGE_df['RangeSD']=DOGE_df['Range'].rolling(30).std()\n",
    "DOGE_df['RangeZscore']=(DOGE_df['Range']-DOGE_df['RangeMa'])/DOGE_df['RangeSD']\n",
    "DOGE_df['SMA_Fast'] = DOGE_df['close'].rolling(window=short_window).mean()/DOGE_df['close']\n",
    "DOGE_df['SMA_Slow'] = DOGE_df['close'].rolling(window=long_window).mean()/DOGE_df['close']\n",
    "DOGE_df['RSI']=talib.RSI(DOGE_df['close'], timeperiod=30)\n",
    "DOGE_df['Volume_PCT'] = DOGE_df['volume'].pct_change()\n",
    "DOGE_df['SMA_Fast_'] = DOGE_df['close'].rolling(window=short_window).mean()\n",
    "DOGE_df['SMA_Slow_'] = DOGE_df['close'].rolling(window=long_window).mean()\n",
    "DOGE_df['SMA_Fast_pctchange']=DOGE_df['SMA_Fast_'].pct_change()\n",
    "DOGE_df['SMA_Slow_pctchange']=DOGE_df['SMA_Slow_'].pct_change()\n",
    "DOGE_df['rolling_mean'] = DOGE_df['close'].rolling(short_window).mean()\n",
    "DOGE_df['rolling_std'] = DOGE_df['close'].rolling(short_window).std()\n",
    "DOGE_df['Bollinger High'] = (DOGE_df['rolling_mean'] + (DOGE_df['rolling_std'] * 2))/DOGE_df['close']\n",
    "DOGE_df['Bollinger Low'] = (DOGE_df['rolling_mean'] - (DOGE_df['rolling_std'] * 2))/DOGE_df['close']\n",
    "DOGE_df['rolling_slope'] = DOGE_df['close'].rolling(window=minutes_back).apply(get_slope, raw=False)\n",
    "\n",
    "\n",
    "DOGE_df['Y']=DOGE_df['close'].pct_change().shift(-1)\n",
    "\n",
    "\n",
    "DOGE_df"
   ]
  },
  {
   "cell_type": "code",
   "execution_count": null,
   "id": "44c2af96-a725-44f1-9b0f-58465c46ec39",
   "metadata": {},
   "outputs": [],
   "source": [
    "MATIC_df.insert(1, 'CRYPTO', 'MATIC')\n",
    "#short_window =30\n",
    "#long_window = 720\n",
    "#minutes_back=30\n",
    "\n",
    "MATIC_df['ClosePct']=(MATIC_df['close']-MATIC_df['low'])/(MATIC_df['high']-MATIC_df['low'])\n",
    "MATIC_df['Range']=MATIC_df['high']-MATIC_df['low']\n",
    "MATIC_df['RangeMa']=MATIC_df['Range'].rolling(30).mean()\n",
    "MATIC_df['RangeSD']=MATIC_df['Range'].rolling(30).std()\n",
    "MATIC_df['RangeZscore']=(MATIC_df['Range']-MATIC_df['RangeMa'])/MATIC_df['RangeSD']\n",
    "MATIC_df['SMA_Fast'] = MATIC_df['close'].rolling(window=short_window).mean()/MATIC_df['close']\n",
    "MATIC_df['SMA_Slow'] =MATIC_df['close'].rolling(window=long_window).mean()/MATIC_df['close']\n",
    "MATIC_df['RSI']=talib.RSI(MATIC_df['close'], timeperiod=30)\n",
    "MATIC_df['Volume_PCT'] = MATIC_df['volume'].pct_change()\n",
    "MATIC_df['SMA_Fast_'] = MATIC_df['close'].rolling(window=short_window).mean()\n",
    "MATIC_df['SMA_Slow_'] = MATIC_df['close'].rolling(window=long_window).mean()\n",
    "MATIC_df['SMA_Fast_pctchange']=MATIC_df['SMA_Fast_'].pct_change()\n",
    "MATIC_df['SMA_Slow_pctchange']=MATIC_df['SMA_Slow_'].pct_change()\n",
    "MATIC_df['rolling_mean'] = MATIC_df['close'].rolling(short_window).mean()\n",
    "MATIC_df['rolling_std'] = MATIC_df['close'].rolling(short_window).std()\n",
    "MATIC_df['Bollinger High'] = (MATIC_df['rolling_mean'] + (MATIC_df['rolling_std'] * 2))/MATIC_df['close']\n",
    "MATIC_df['Bollinger Low'] = (MATIC_df['rolling_mean'] - (MATIC_df['rolling_std'] * 2))/MATIC_df['close']\n",
    "MATIC_df['rolling_slope'] = MATIC_df['close'].rolling(window=minutes_back).apply(get_slope, raw=False)\n",
    "\n",
    "\n",
    "MATIC_df['Y']=MATIC_df['close'].pct_change().shift(-1)\n",
    "\n",
    "\n",
    "MATIC_df"
   ]
  },
  {
   "cell_type": "markdown",
   "id": "a4ef1f06-b5d2-4940-b392-97a434c69a32",
   "metadata": {},
   "source": [
    "# Combined Dataframe for Predictive Models"
   ]
  },
  {
   "cell_type": "markdown",
   "id": "4742a05f-bb84-4114-a9e1-668270f1fca3",
   "metadata": {},
   "source": [
    "# Droping Columns from Combined Data Frame"
   ]
  },
  {
   "cell_type": "code",
   "execution_count": null,
   "id": "d14ad6bb-62e3-4b01-abc7-6f03d1f80389",
   "metadata": {},
   "outputs": [],
   "source": [
    "# Create empty dataframe to hold stock data\n",
    "df_all_crypto=pd.DataFrame()\n",
    "#create a list of data frames\n",
    "list = [BTC_df,ETH_df,BNB_df,XRP_df,DOGE_df,MATIC_df,ADA_df]\n",
    "\n",
    "# Combine individual stocks into a single data frame\n",
    "df_all_crypto=pd.concat(list,axis=0)\n",
    "# Drop the N/As\n",
    "df_all_crypto = df_all_crypto.dropna()\n",
    "df_all_crypto=df_all_crypto.sort_values(['date','CRYPTO']).set_index(['date','CRYPTO'])\n"
   ]
  },
  {
   "cell_type": "code",
   "execution_count": null,
   "id": "b8bdabf7-fb01-4a51-b886-a4762c9e4626",
   "metadata": {},
   "outputs": [],
   "source": [
    "df_all_crypto.iloc[-1]"
   ]
  },
  {
   "cell_type": "code",
   "execution_count": null,
   "id": "ff6cf8e8-f336-45b4-b25e-97ef34da9db8",
   "metadata": {},
   "outputs": [],
   "source": [
    "df_all_crypto.iloc[4000000]"
   ]
  },
  {
   "cell_type": "code",
   "execution_count": null,
   "id": "15a733a9-c8fb-4bc3-9392-7d6c7946ec1e",
   "metadata": {},
   "outputs": [],
   "source": [
    "df_all_crypto.drop(columns = ['open','high','low','close','volume','Range','RangeMa'], inplace = True)\n"
   ]
  },
  {
   "cell_type": "code",
   "execution_count": null,
   "id": "4fcae0f9-2a3f-48a4-bbf8-66c0c6325bc9",
   "metadata": {},
   "outputs": [],
   "source": [
    "df_all_crypto "
   ]
  },
  {
   "cell_type": "markdown",
   "id": "340efbe2-8dec-4c04-b976-3863b7572122",
   "metadata": {},
   "source": [
    "## Shifting Y to 15 mins\n"
   ]
  },
  {
   "cell_type": "code",
   "execution_count": null,
   "id": "b5721f25-55c7-441e-a4a4-f76c23f27dc4",
   "metadata": {},
   "outputs": [],
   "source": [
    "df_all_crypto.loc[:, 'Y'] = df_all_crypto.Y.shift(-14)\n"
   ]
  },
  {
   "cell_type": "code",
   "execution_count": null,
   "id": "aecb2cf0-387c-4dab-8790-40e32c192d35",
   "metadata": {},
   "outputs": [],
   "source": [
    "# Dropinging NAN and NA\n",
    "\n",
    "df_all_crypto = df_all_crypto.dropna()"
   ]
  },
  {
   "cell_type": "code",
   "execution_count": null,
   "id": "00ce47fb-3088-46d5-a1b7-bb59d1e70671",
   "metadata": {},
   "outputs": [],
   "source": [
    "df_all_crypto"
   ]
  },
  {
   "cell_type": "code",
   "execution_count": null,
   "id": "e3036e17-eef1-4739-bb6e-57d17ab5c928",
   "metadata": {},
   "outputs": [],
   "source": [
    "BTC_df"
   ]
  },
  {
   "cell_type": "markdown",
   "id": "02483ad2-84c8-488f-bfbd-f7a9cfd6f66f",
   "metadata": {},
   "source": [
    "# Algorithm Trading & Analysis "
   ]
  },
  {
   "cell_type": "code",
   "execution_count": null,
   "id": "2edca976-a618-4b07-9ec0-18d03e6609f8",
   "metadata": {},
   "outputs": [],
   "source": [
    "signals_df = pd.DataFrame()\n",
    "signals_df = ETH_df[['date','close','ClosePct','SMA_Fast','SMA_Slow','RSI','Bollinger High','Bollinger Low','rolling_slope']].copy()\n",
    "signals_df = signals_df.set_index(['date'])\n",
    "signals_df = signals_df.dropna()\n"
   ]
  },
  {
   "cell_type": "code",
   "execution_count": null,
   "id": "e324b200-0af0-40bc-8391-ef74a00a454b",
   "metadata": {},
   "outputs": [],
   "source": [
    "# Prepopulate the `Signal` for trading\n",
    "signals_df['Signal'] = 0.0\n",
    "RSI_Buy = 70\n",
    "RSI_Sell = 30\n",
    "Slope_Buy = 0.1\n",
    "Slope_sell= -0.1\n",
    "# Generate the trading signal 1 or -1,\n",
    "# where 1 is when short-window (SMA50) is greater than the long (SMA 100)\n",
    "# and 0 otherwise\n",
    "\n",
    "for index, row in signals_df.iterrows():\n",
    "    if row[\"ClosePct\"] > row[\"Bollinger Low\"] and row[\"SMA_Fast\"] > row[\"SMA_Slow\"] and row[\"RSI\"] >= RSI_Buy and row['rolling_slope'] > row[\"SMA_Fast\"] :\n",
    "        signals_df.loc[index, \"Signal\"] = -1.0\n",
    "    if  row[\"ClosePct\"] < row[\"Bollinger High\"]and row[\"SMA_Fast\"] < row[\"SMA_Slow\"] and RSI_Sell >= row[\"RSI\"] and row['rolling_slope'] < row[\"SMA_Fast\"]:\n",
    "        signals_df.loc[index,\"Signal\"] = 1.0\n",
    "\n",
    "signals_df.head(10)\n",
    "\n",
    "\n",
    "\n"
   ]
  },
  {
   "cell_type": "code",
   "execution_count": null,
   "id": "a0d208c0-c3e4-46b5-a9e6-050dd16f05a8",
   "metadata": {},
   "outputs": [],
   "source": [
    "signals_df['rolling_slope'].max()"
   ]
  },
  {
   "cell_type": "code",
   "execution_count": null,
   "id": "e6df5197-6438-4151-b136-be37e9fbf2a6",
   "metadata": {},
   "outputs": [],
   "source": [
    "signals_df"
   ]
  },
  {
   "cell_type": "code",
   "execution_count": null,
   "id": "cf5ba9ed-35a3-4359-a03d-ca33dc3234a3",
   "metadata": {},
   "outputs": [],
   "source": [
    "signals_df['Signal'].value_counts()"
   ]
  },
  {
   "cell_type": "code",
   "execution_count": null,
   "id": "8be1319b-e3f9-413c-91ce-88c745332613",
   "metadata": {},
   "outputs": [],
   "source": [
    "# Visualize entry position relative to close price\n",
    "entry = signals_df[signals_df[\"Signal\"] == 1.0][\"close\"].hvplot.scatter(\n",
    "    color=\"green\",\n",
    "    marker=\"^\",\n",
    "    size=200,\n",
    "    legend=False,\n",
    "    ylabel=\"Price in $\",\n",
    "    width=1000,\n",
    "    height=400\n",
    ")\n",
    "\n",
    "# Visualize exit position relative to close price\n",
    "exit = signals_df[signals_df[\"Signal\"] == -1.0][\"close\"].hvplot.scatter(\n",
    "    color=\"red\",\n",
    "    marker=\"v\",\n",
    "    size=200,\n",
    "    legend=False,\n",
    "    ylabel=\"Price in $\",\n",
    "    width=1000,\n",
    "    height=400\n",
    ")\n",
    "\n",
    "# Visualize close price for the investment\n",
    "security_close = signals_df[[\"close\"]].hvplot(\n",
    "    line_color=\"lightgray\",\n",
    "    ylabel=\"Price in $\",\n",
    "    width=1000,\n",
    "    height=400\n",
    ")    \n",
    "strategy_plot = security_close * entry * exit\n",
    "strategy_plot\n"
   ]
  },
  {
   "cell_type": "code",
   "execution_count": null,
   "id": "f2de6170-2ee1-498f-ab06-8af232e13e73",
   "metadata": {},
   "outputs": [],
   "source": [
    "# Set initial capital\n",
    "initial_capital = float(100000)\n",
    "\n",
    "# Set the share size\n",
    "share_size = 50\n",
    "\n",
    "signals_df['Position'] = share_size * signals_df['Signal']\n",
    "signals_df['Entry/Exit Position'] = signals_df['Position'].diff()\n",
    "signals_df['Portfolio Holdings'] = signals_df['close'] * signals_df['Position']\n",
    "signals_df['Portfolio Cash'] = initial_capital - (signals_df['close'] * signals_df['Entry/Exit Position']).cumsum() \n",
    "signals_df['Portfolio Total'] = signals_df['Portfolio Cash'] + signals_df['Portfolio Holdings']\n",
    "signals_df['Portfolio Daily Returns'] = signals_df['Portfolio Total'].pct_change()\n",
    "signals_df['Portfolio Cumulative Returns'] = (1 + signals_df['Portfolio Daily Returns']).cumprod() - 1\n",
    "signals_df.tail(10)\n"
   ]
  },
  {
   "cell_type": "code",
   "execution_count": null,
   "id": "7ba3cd2a-fd46-4f55-a573-0c8b78fd20e6",
   "metadata": {},
   "outputs": [],
   "source": [
    "# Visualize exit position relative to total portfolio value\n",
    "exit = signals_df[signals_df['Signal'] == -1.0]['Portfolio Total'].hvplot.scatter(\n",
    "    color='red',\n",
    "    marker='v',\n",
    "    legend=False,\n",
    "    ylabel='Total Portfolio Value',\n",
    "    width=1000,\n",
    "    height=400\n",
    ")\n",
    "\n",
    "# Visualize entry position relative to total portfolio value\n",
    "entry = signals_df[signals_df['Signal'] == 1.0]['Portfolio Total'].hvplot.scatter(\n",
    "    color='green',\n",
    "    marker='^',\n",
    "    ylabel='Total Portfolio Value',\n",
    "    width=1000,\n",
    "    height=400\n",
    ")\n",
    "\n",
    "# Visualize the value of the total portfolio\n",
    "total_portfolio_value = signals_df[['Portfolio Total']].hvplot(\n",
    "    line_color='lightgray',\n",
    "    ylabel='Total Portfolio Value',\n",
    "    xlabel='Date',\n",
    "    width=1000,\n",
    "    height=400\n",
    ")\n",
    "\n",
    "# Overlay the plots\n",
    "portfolio_entry_exit_plot = total_portfolio_value * entry * exit\n",
    "portfolio_entry_exit_plot.opts(\n",
    "    title=\" Algorithm - Total Portfolio Value\",\n",
    "    yformatter='%.0f')"
   ]
  },
  {
   "cell_type": "markdown",
   "id": "a24dea8b-663c-4378-a05d-75795cf95e15",
   "metadata": {},
   "source": [
    "# Set Up the Portfolio-Level Risk/Reward Evaluation Metrics"
   ]
  },
  {
   "cell_type": "code",
   "execution_count": null,
   "id": "d0ccb0a1-b2d3-4649-aa25-0edfbe42cc9e",
   "metadata": {},
   "outputs": [],
   "source": [
    "# Create a list for the column name\n",
    "columns = [\"Backtest\"]\n",
    "\n",
    "# Create a list holding the names of the new evaluation metrics\n",
    "metrics = [\n",
    "    \"Annualized Return\",\n",
    "    \"Cumulative Returns\",\n",
    "    \"Annual Volatility\",\n",
    "    \"Sharpe Ratio\",\n",
    "    \"Sortino Ratio\"]\n",
    "\n",
    "# Initialize the DataFrame with index set to the evaluation metrics and the column\n",
    "portfolio_evaluation_df = pd.DataFrame(index=metrics, columns=columns)\n",
    "\n",
    "# Review the DataFrame\n",
    "portfolio_evaluation_df"
   ]
  },
  {
   "cell_type": "code",
   "execution_count": null,
   "id": "3ec42826-4021-4cec-bc3d-b9c12c250d36",
   "metadata": {},
   "outputs": [],
   "source": [
    "signals_df.iloc[-1,-1]"
   ]
  },
  {
   "cell_type": "code",
   "execution_count": null,
   "id": "4ccaa31a-91fd-40ad-b8c3-41fe2c3c2cb7",
   "metadata": {},
   "outputs": [],
   "source": [
    "# Calculate annualized return\n",
    "portfolio_evaluation_df.loc[\"Annualized Return\"] = (\n",
    "    signals_df[\"Portfolio Daily Returns\"].mean() * 31536000\n",
    ")\n",
    "\n",
    "# Calculate cumulative return\n",
    "portfolio_evaluation_df.loc[\"Cumulative Returns\"] = signals_df.iloc[-1,-1]\n",
    "\n",
    "\n",
    "# Calculate annual volatility\n",
    "portfolio_evaluation_df.loc[\"Annual Volatility\"] = (\n",
    "    signals_df[\"Portfolio Daily Returns\"].std() * np.sqrt(31536000)\n",
    ")\n",
    "\n",
    "# Review the result\n",
    "portfolio_evaluation_df\n",
    "\n",
    "# Calculate Sharpe ratio\n",
    "portfolio_evaluation_df.loc[\"Sharpe Ratio\"] = (\n",
    "    signals_df[\"Portfolio Daily Returns\"].mean() * 31536000) / (\n",
    "    signals_df[\"Portfolio Daily Returns\"].std() * np.sqrt(31536000)\n",
    ")\n",
    "\n",
    "# Review the result\n",
    "portfolio_evaluation_df\n",
    "\n",
    "# Create a DataFrame that contains the Portfolio Daily Returns column\n",
    "sortino_ratio_df = signals_df[[\"Portfolio Daily Returns\"]].copy()\n",
    "\n",
    "# Create a column to hold downside return values\n",
    "sortino_ratio_df.loc[:,\"Downside Returns\"] = 0\n",
    "\n",
    "# Find Portfolio Daily Returns values less than 0,\n",
    "# square those values, and add them to the Downside Returns column\n",
    "sortino_ratio_df.loc[sortino_ratio_df[\"Portfolio Daily Returns\"] < 0,\n",
    "                     \"Downside Returns\"] = sortino_ratio_df[\"Portfolio Daily Returns\"]**2\n",
    "\n",
    "# Review the DataFrame\n",
    "sortino_ratio_df.tail()\n",
    "\n",
    "# Calculate the annualized return value\n",
    "annualized_return = (\n",
    "    sortino_ratio_df[\"Portfolio Daily Returns\"].mean() * 252\n",
    ")\n",
    "\n",
    "# Print the result\n",
    "print(f\"Annualized Return: {annualized_return}\")\n",
    "\n",
    "# Calculate the annualized downside standard deviation value\n",
    "downside_standard_deviation = (\n",
    "    np.sqrt(sortino_ratio_df[\"Downside Returns\"].mean()) * np.sqrt(252)\n",
    ")\n",
    "\n",
    "# Print the result\n",
    "print(f\"Annualized Downside STD: {downside_standard_deviation}\")\n",
    "\n",
    "#The Sortino ratio is reached by dividing the annualized return value\n",
    "# by the downside standard deviation value\n",
    "sortino_ratio = annualized_return/downside_standard_deviation\n",
    "\n",
    "# Add the Sortino ratio to the evaluation DataFrame\n",
    "portfolio_evaluation_df.loc[\"Sortino Ratio\"] = sortino_ratio\n",
    "\n",
    "# Review the DataFrame\n",
    "portfolio_evaluation_df"
   ]
  },
  {
   "cell_type": "code",
   "execution_count": null,
   "id": "3eecadb8-2389-42db-aa0a-1fab662a6ecb",
   "metadata": {},
   "outputs": [],
   "source": [
    "# Initialize trade evaluation DataFrame with columns\n",
    "trade_evaluation_df = pd.DataFrame(\n",
    "    columns=[\n",
    "        \"Stock\",\n",
    "        \"Entry Date\",\n",
    "        \"Exit Date\",\n",
    "        \"Shares\",\n",
    "        \"Entry Share Price\",\n",
    "        \"Exit Share Price\",\n",
    "        \"Entry Portfolio Holding\",\n",
    "        \"Exit Portfolio Holding\",\n",
    "        \"Profit/Loss\"]\n",
    ")\n",
    "# Loop through signal DataFrame\n",
    "# If `Entry/Exit` is 1, set entry trade metrics\n",
    "# Else if `Entry/Exit` is -1, set exit trade metrics and calculate profit\n",
    "# Then append the record to the trade evaluation DataFrame\n",
    "for index, row in signals_df.iterrows():\n",
    "    if row[\"Signal\"] == 1:\n",
    "        entry_date = index\n",
    "        entry_portfolio_holding = row[\"Portfolio Holdings\"]\n",
    "        share_size = row[\"Entry/Exit Position\"]\n",
    "        entry_share_price = row[\"close\"]\n",
    "\n",
    "    elif row[\"Signal\"] == -1:\n",
    "        exit_date = index\n",
    "        exit_portfolio_holding = abs(row[\"close\"] * row[\"Entry/Exit Position\"])\n",
    "        exit_share_price = row[\"close\"]\n",
    "        profit_loss = exit_portfolio_holding - entry_portfolio_holding\n",
    "        trade_evaluation_df = trade_evaluation_df.append(\n",
    "            {\n",
    "                \"Stock\": \"ETH\",\n",
    "                \"Entry Date\": entry_date,\n",
    "                \"Exit Date\": exit_date,\n",
    "                \"Shares\": share_size,\n",
    "                \"Entry Share Price\": entry_share_price,\n",
    "                \"Exit Share Price\": exit_share_price,\n",
    "                \"Entry Portfolio Holding\": entry_portfolio_holding,\n",
    "                \"Exit Portfolio Holding\": exit_portfolio_holding,\n",
    "                \"Profit/Loss\": profit_loss\n",
    "            },\n",
    "            ignore_index=True)\n",
    "\n",
    "# Print the DataFrame\n",
    "trade_evaluation_df"
   ]
  },
  {
   "cell_type": "code",
   "execution_count": null,
   "id": "ce68fbb0-cb6f-4be2-bf6b-24a46683e302",
   "metadata": {},
   "outputs": [],
   "source": [
    "trade_evaluation_df['Profit/Loss'].cumsum().hvplot()"
   ]
  },
  {
   "cell_type": "markdown",
   "id": "d40ce6ea-2d86-4339-b451-3250da12a20a",
   "metadata": {},
   "source": [
    "# AI based prediction on pricing \n"
   ]
  },
  {
   "cell_type": "markdown",
   "id": "15e80f5e-f1e2-4f5d-bcc8-af66a0b3ca11",
   "metadata": {},
   "source": [
    "## Logitic Regression for predicting Buy and sell Signals \n"
   ]
  },
  {
   "cell_type": "code",
   "execution_count": null,
   "id": "1e96f08c-965b-408d-88e0-6a76f524f274",
   "metadata": {},
   "outputs": [],
   "source": []
  },
  {
   "cell_type": "code",
   "execution_count": null,
   "id": "b59a5101-c6f0-4df8-bee5-296e4ebfd26d",
   "metadata": {},
   "outputs": [],
   "source": [
    "df_all_crypto"
   ]
  },
  {
   "cell_type": "code",
   "execution_count": null,
   "id": "8096624d-f251-49e1-9639-754660df130b",
   "metadata": {},
   "outputs": [],
   "source": [
    "#df_all_crypto['Signal']=df_all_crypto['Signal'].shift(-15)\n",
    "df_all_crypto = df_all_crypto.dropna()"
   ]
  },
  {
   "cell_type": "code",
   "execution_count": null,
   "id": "8248816e-e126-42cc-ba1d-ee5b6f44a115",
   "metadata": {},
   "outputs": [],
   "source": [
    "df_all_crypto.tail(15)"
   ]
  },
  {
   "cell_type": "code",
   "execution_count": null,
   "id": "64aaaccf-c870-4f4f-9abc-9cb61508f3ec",
   "metadata": {},
   "outputs": [],
   "source": [
    "df_all_crypto['Signal'] = 0.0\n",
    "for index, row in df_all_crypto.iterrows():\n",
    "    if row[\"ClosePct\"] < row[\"Bollinger High\"]and row[\"SMA_Fast\"] < row[\"SMA_Slow\"] and RSI_Sell >= row[\"RSI\"] and row['rolling_slope'] < row[\"SMA_Fast\"]:\n",
    "        df_all_crypto.loc[index, \"Signal\"] = 1.0\n",
    "    elif row[\"ClosePct\"] > row[\"Bollinger Low\"] and row[\"SMA_Fast\"] > row[\"SMA_Slow\"] and row[\"RSI\"] >= RSI_Buy and row['rolling_slope'] > row[\"SMA_Fast\"] :\n",
    "        df_all_crypto.loc[index, \"Signal\"] = -1.0\n",
    "    else :\n",
    "        df_all_crypto.loc[index, \"Signal\"] = -1.0"
   ]
  },
  {
   "cell_type": "code",
   "execution_count": null,
   "id": "8a7b957e-6b41-4bf0-80a7-5075e5a9d068",
   "metadata": {},
   "outputs": [],
   "source": [
    "df_all_crypto.dropna()"
   ]
  },
  {
   "cell_type": "code",
   "execution_count": null,
   "id": "8565ed34-5aa4-4252-bf95-ef4ef6cd8268",
   "metadata": {},
   "outputs": [],
   "source": [
    "#Covert data into features and detination parameter\n",
    "\n",
    "X = df_all_crypto.drop(['RangeSD','SMA_Fast_','SMA_Slow_','rolling_mean','rolling_mean','Signal', 'Y'],axis=1).shift(-15).dropna()\n"
   ]
  },
  {
   "cell_type": "code",
   "execution_count": null,
   "id": "03a0635a-2591-4555-83c0-505855e3f9a3",
   "metadata": {},
   "outputs": [],
   "source": [
    "y_Signal = df_all_crypto['Signal']"
   ]
  },
  {
   "cell_type": "code",
   "execution_count": null,
   "id": "72b699c0-6639-4334-a1ac-4493444a776f",
   "metadata": {},
   "outputs": [],
   "source": [
    "y_Signal.value_counts()"
   ]
  },
  {
   "cell_type": "code",
   "execution_count": null,
   "id": "de9033ee-1049-4518-a661-6884dc3ed6e1",
   "metadata": {},
   "outputs": [],
   "source": [
    "y = df_all_crypto['Y']"
   ]
  },
  {
   "cell_type": "code",
   "execution_count": null,
   "id": "4c65bbf5-b001-435c-8281-232090820973",
   "metadata": {},
   "outputs": [],
   "source": [
    "X_train=X.iloc[0:100000]\n",
    "X_test=X.iloc[-5000:]\n",
    "y_train=y_Signal.iloc[0:100000]\n",
    "y_test=y_Signal.iloc[-5000:]\n",
    "print(X_train)\n",
    "print(y_train)\n",
    "print(X_test)\n",
    "print(y_test)\n",
    "y_train.value_counts()"
   ]
  },
  {
   "cell_type": "code",
   "execution_count": null,
   "id": "cfa5792c-26b2-4933-91e7-7ccac2d7ffa8",
   "metadata": {},
   "outputs": [],
   "source": [
    "# Import the LogisticRegression and Standard Scaler module from SKLearn\n",
    "from sklearn.linear_model import LogisticRegression\n",
    "from sklearn.preprocessing import StandardScaler\n",
    "from sklearn.preprocessing import MinMaxScaler\n",
    "\n",
    "# Scale the data\n",
    "scaler = MinMaxScaler()\n",
    "X_scaler = scaler.fit(X_train)\n",
    "X_train_scaled = X_scaler.transform(X_train)\n",
    "X_test_scaled = X_scaler.transform(X_test)\n",
    "\n",
    "# Instantiate the Logistic Regression model\n",
    "# Assign a random_state parameter of 1 to the model\n",
    "logistic_regression_model = LogisticRegression(random_state=1, max_iter= 3000)\n",
    "\n",
    "# Fit the model using training data\n",
    "lr_model = logistic_regression_model.fit(X_train_scaled, y_train)"
   ]
  },
  {
   "cell_type": "code",
   "execution_count": null,
   "id": "2ab7c6f8-4df3-4db5-9c27-26cd9dcca58b",
   "metadata": {},
   "outputs": [],
   "source": [
    "# Make a prediction using the testing data\n",
    "testing_predictions_lr = lr_model.predict(X_test_scaled)\n",
    "\n",
    "# Review the predictions\n",
    "testing_predictions_lr\n"
   ]
  },
  {
   "cell_type": "code",
   "execution_count": null,
   "id": "99a6e17a-e6d7-4041-812d-d120996111a8",
   "metadata": {},
   "outputs": [],
   "source": [
    "\n",
    "np.argwhere(np.isnan(testing_predictions_lr))\n"
   ]
  },
  {
   "cell_type": "code",
   "execution_count": null,
   "id": "8beae816-284e-4dd6-938e-2b9d330e0e9c",
   "metadata": {},
   "outputs": [],
   "source": [
    "from sklearn.metrics import accuracy_score, classification_report, confusion_matrix"
   ]
  },
  {
   "cell_type": "code",
   "execution_count": null,
   "id": "b8b5c439-41aa-4c3c-83a9-709fec5b0c12",
   "metadata": {},
   "outputs": [],
   "source": [
    "accuracy_score(y_test, testing_predictions_lr)"
   ]
  },
  {
   "cell_type": "code",
   "execution_count": null,
   "id": "8192f42a-6341-474d-8567-6bc0723ccadf",
   "metadata": {},
   "outputs": [],
   "source": [
    "confusion_matrix(y_test, testing_predictions_lr)"
   ]
  },
  {
   "cell_type": "code",
   "execution_count": null,
   "id": "9f76dca2-29cc-4958-bdb7-4822d8de5136",
   "metadata": {},
   "outputs": [],
   "source": [
    "classification_report(y_test, testing_predictions_lr)"
   ]
  },
  {
   "cell_type": "markdown",
   "id": "39bd947a-583c-4eb7-8d21-1cc9dd6dd8e9",
   "metadata": {},
   "source": [
    "# Neural Network Prodictions \n"
   ]
  },
  {
   "cell_type": "code",
   "execution_count": null,
   "id": "e84a66cd-b631-43d3-8598-bdff3d41f26d",
   "metadata": {},
   "outputs": [],
   "source": [
    "from tensorflow.keras.utils import to_categorical\n",
    "from keras.models import Sequential, Model\n",
    "from keras.layers import LSTM, Dense, Activation, Dropout\n",
    "import tensorflow as tf\n",
    "import keras\n",
    "from keras.callbacks import EarlyStopping\n"
   ]
  },
  {
   "cell_type": "code",
   "execution_count": null,
   "id": "11abe743-d486-4ffc-adb0-9de52993f868",
   "metadata": {},
   "outputs": [],
   "source": [
    "# Define the model - deep neural net with two hidden layers\n",
    "number_input_features = 12\n",
    "hidden_nodes_layer1 = 8\n",
    "hidden_nodes_layer2 = 4\n",
    "\n",
    "# Create a sequential neural network model\n",
    "nn_1 = Sequential()\n",
    "\n",
    "# Add the first hidden layer\n",
    "nn_1.add(Dense(units=hidden_nodes_layer1, input_dim=number_input_features, activation=\"relu\"))\n",
    "\n",
    "# Add the second hidden layer\n",
    "nn_1.add(Dense(units=hidden_nodes_layer2, activation=\"relu\"))\n",
    "\n",
    "# Add the output layer\n",
    "nn_1.add(Dense(units=1, activation=\"linear\"))"
   ]
  },
  {
   "cell_type": "code",
   "execution_count": null,
   "id": "cd05041b-bdef-4ab9-b28d-f1222a91292d",
   "metadata": {},
   "outputs": [],
   "source": [
    "y_test=y.iloc[-5000:]"
   ]
  },
  {
   "cell_type": "code",
   "execution_count": null,
   "id": "8c39e569-d7cd-4efc-8cee-194e0301dcd6",
   "metadata": {},
   "outputs": [],
   "source": [
    "nn_1.compile(loss=\"mean_squared_error\", optimizer=\"adam\", metrics=[\"mse\"])"
   ]
  },
  {
   "cell_type": "code",
   "execution_count": null,
   "id": "611f4962-e7c8-4801-b801-2e3d0b82a314",
   "metadata": {},
   "outputs": [],
   "source": [
    "# Fit the model\n",
    "deep_net_model_1 = nn_1.fit(X_train_scaled, y_train, epochs=10)"
   ]
  },
  {
   "cell_type": "code",
   "execution_count": null,
   "id": "3ad88388-3834-4de9-b9cb-a2176baf48b1",
   "metadata": {},
   "outputs": [],
   "source": [
    "# Set the model's file path\n",
    "file_path = Path(\"SourceCode/TraingModel1.h5\")\n",
    "\n",
    "# Export your model to an HDF5 file\n",
    "nn_1.save(file_path)"
   ]
  },
  {
   "cell_type": "code",
   "execution_count": null,
   "id": "10b3f642-2d73-4b15-b9a0-f42838ca6c05",
   "metadata": {},
   "outputs": [],
   "source": [
    "# Evaluate the model using the test data\n",
    "model_loss, model_accuracy = nn_1.evaluate(X_test_scaled, y_test, verbose=2)\n",
    "\n",
    "# Display evaluation results\n",
    "print(f\"Loss: {model_loss}, Accuracy: {model_accuracy}\")"
   ]
  },
  {
   "cell_type": "code",
   "execution_count": null,
   "id": "a5503aca-97e9-4ec9-a9cc-e1a5557900ff",
   "metadata": {},
   "outputs": [],
   "source": [
    "import gc\n",
    "gc.collect()"
   ]
  },
  {
   "cell_type": "code",
   "execution_count": null,
   "id": "729dbd6c-8ce4-46f5-b018-693492341745",
   "metadata": {
    "tags": []
   },
   "outputs": [],
   "source": [
    "ls -lh\n"
   ]
  }
 ],
 "metadata": {
  "kernelspec": {
   "display_name": "Python 3 (ipykernel)",
   "language": "python",
   "name": "python3"
  },
  "language_info": {
   "codemirror_mode": {
    "name": "ipython",
    "version": 3
   },
   "file_extension": ".py",
   "mimetype": "text/x-python",
   "name": "python",
   "nbconvert_exporter": "python",
   "pygments_lexer": "ipython3",
   "version": "3.7.13"
  }
 },
 "nbformat": 4,
 "nbformat_minor": 5
}
